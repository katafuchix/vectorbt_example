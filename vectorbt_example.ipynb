{
 "cells": [
  {
   "cell_type": "code",
   "execution_count": null,
   "id": "7cff6827",
   "metadata": {},
   "outputs": [],
   "source": [
    "!pip install vectorbt"
   ]
  },
  {
   "cell_type": "code",
   "execution_count": null,
   "id": "74803894",
   "metadata": {},
   "outputs": [
    {
     "name": "stderr",
     "output_type": "stream",
     "text": [
      "/var/folders/x3/wccbb5_s6s183_4fl9f6ybdc0000gn/T/ipykernel_56707/1033371548.py:10: DeprecationWarning:\n",
      "\n",
      "Parsing dates involving a day of month without a year specified is ambiguious\n",
      "and fails to parse leap day. The default behavior will change in Python 3.15\n",
      "to either always raise an exception or to use a different default year (TBD).\n",
      "To avoid trouble, add a specific year to the input & format.\n",
      "See https://github.com/python/cpython/issues/70647.\n",
      "\n"
     ]
    },
    {
     "ename": "AttributeError",
     "evalue": "'Series' object has no attribute 'columns'",
     "output_type": "error",
     "traceback": [
      "\u001b[31m---------------------------------------------------------------------------\u001b[39m",
      "\u001b[31mAttributeError\u001b[39m                            Traceback (most recent call last)",
      "\u001b[32m/var/folders/x3/wccbb5_s6s183_4fl9f6ybdc0000gn/T/ipykernel_56707/1033371548.py\u001b[39m in \u001b[36m?\u001b[39m\u001b[34m()\u001b[39m\n\u001b[32m      8\u001b[39m \n\u001b[32m      9\u001b[39m \u001b[38;5;66;03m# データ取得（トヨタ）\u001b[39;00m\n\u001b[32m     10\u001b[39m price = vbt.YFData.download(\u001b[33m'7203.T'\u001b[39m, start=\u001b[33m'2021-01-01'\u001b[39m, end=\u001b[33m'2022-03-31'\u001b[39m).get(\u001b[33m'Close'\u001b[39m)\n\u001b[32m     11\u001b[39m \n\u001b[32m---> \u001b[39m\u001b[32m12\u001b[39m \u001b[38;5;28;01mif\u001b[39;00m isinstance(price.columns, pd.MultiIndex):\n\u001b[32m     13\u001b[39m     \u001b[38;5;66;03m# マルチインデックスを平坦化し、カラム名を整理\u001b[39;00m\n\u001b[32m     14\u001b[39m     price.columns = price.columns.get_level_values(\u001b[32m0\u001b[39m)\n\u001b[32m     15\u001b[39m \n",
      "\u001b[32m~/.pyenv/versions/3.13.1/lib/python3.13/site-packages/pandas/core/generic.py\u001b[39m in \u001b[36m?\u001b[39m\u001b[34m(self, name)\u001b[39m\n\u001b[32m   6295\u001b[39m             \u001b[38;5;28;01mand\u001b[39;00m name \u001b[38;5;28;01mnot\u001b[39;00m \u001b[38;5;28;01min\u001b[39;00m self._accessors\n\u001b[32m   6296\u001b[39m             \u001b[38;5;28;01mand\u001b[39;00m self._info_axis._can_hold_identifiers_and_holds_name(name)\n\u001b[32m   6297\u001b[39m         ):\n\u001b[32m   6298\u001b[39m             \u001b[38;5;28;01mreturn\u001b[39;00m self[name]\n\u001b[32m-> \u001b[39m\u001b[32m6299\u001b[39m         \u001b[38;5;28;01mreturn\u001b[39;00m object.__getattribute__(self, name)\n",
      "\u001b[31mAttributeError\u001b[39m: 'Series' object has no attribute 'columns'"
     ]
    }
   ],
   "source": [
    "import vectorbt as vbt\n",
    "import yfinance as yf\n",
    "import pandas as pd\n",
    "\n",
    "# パラメータ\n",
    "ns = 5   # 短期移動平均日数\n",
    "nl = 25  # 長期移動平均日数\n",
    "\n",
    "# データ取得（トヨタ）\n",
    "price = vbt.YFData.download('7203.T', start='2021-01-01', end='2022-03-31').get('Close')\n",
    "\n",
    "if isinstance(price, pd.DataFrame) and isinstance(price.columns, pd.MultiIndex):\n",
    "    price = price.iloc[:, 0]  # 最初の銘柄の「Close」列だけ使う\n",
    "\n",
    "# 移動平均の計算\n",
    "smaS = vbt.MA.run(price, window=ns).ma\n",
    "smaL = vbt.MA.run(price, window=nl).ma\n",
    "\n",
    "# シグナル定義：クロスオーバー\n",
    "entries = smaS > smaL\n",
    "exits = smaS < smaL\n",
    "\n",
    "# ポートフォリオ作成（シグナルによるバックテスト）\n",
    "portfolio = vbt.Portfolio.from_signals(price, entries, exits, init_cash=10000, fees=0.002)\n",
    "\n",
    "# 成績確認\n",
    "print(portfolio.stats())\n",
    "portfolio.plot()\n"
   ]
  },
  {
   "cell_type": "code",
   "execution_count": null,
   "id": "3937ede1",
   "metadata": {},
   "outputs": [],
   "source": []
  }
 ],
 "metadata": {
  "kernelspec": {
   "display_name": "Python 3",
   "language": "python",
   "name": "python3"
  },
  "language_info": {
   "codemirror_mode": {
    "name": "ipython",
    "version": 3
   },
   "file_extension": ".py",
   "mimetype": "text/x-python",
   "name": "python",
   "nbconvert_exporter": "python",
   "pygments_lexer": "ipython3",
   "version": "3.13.1"
  }
 },
 "nbformat": 4,
 "nbformat_minor": 5
}
