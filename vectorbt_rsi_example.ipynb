{
 "cells": [
  {
   "cell_type": "code",
   "execution_count": null,
   "id": "7cff6827",
   "metadata": {},
   "outputs": [],
   "source": [
    "!pip install vectorbt"
   ]
  },
  {
   "cell_type": "code",
   "execution_count": 2,
   "id": "74803894",
   "metadata": {},
   "outputs": [
    {
     "name": "stderr",
     "output_type": "stream",
     "text": [
      "/var/folders/x3/wccbb5_s6s183_4fl9f6ybdc0000gn/T/ipykernel_56958/2076355835.py:9: DeprecationWarning:\n",
      "\n",
      "Parsing dates involving a day of month without a year specified is ambiguious\n",
      "and fails to parse leap day. The default behavior will change in Python 3.15\n",
      "to either always raise an exception or to use a different default year (TBD).\n",
      "To avoid trouble, add a specific year to the input & format.\n",
      "See https://github.com/python/cpython/issues/70647.\n",
      "\n"
     ]
    },
    {
     "data": {
      "text/html": [
       "<iframe\n",
       "    scrolling=\"no\"\n",
       "    width=\"100%\"\n",
       "    height=\"820\"\n",
       "    src=\"iframe_figures/figure_2.html\"\n",
       "    frameborder=\"0\"\n",
       "    allowfullscreen\n",
       "></iframe>\n"
      ]
     },
     "metadata": {},
     "output_type": "display_data"
    }
   ],
   "source": [
    "import vectorbt as vbt\n",
    "import yfinance as yf\n",
    "import talib as ta\n",
    "import pandas as pd\n",
    "from plotly.subplots import make_subplots\n",
    "import plotly.graph_objects as go\n",
    "\n",
    "# --- データ取得 ---\n",
    "price = vbt.YFData.download('7203.T', start='2021-01-01', end='2022-03-31').get('Close')\n",
    "if isinstance(price, pd.DataFrame) and isinstance(price.columns, pd.MultiIndex):\n",
    "    price = price.iloc[:, 0]  # マルチインデックス対策\n",
    "\n",
    "# --- RSI計算 ---\n",
    "n1, n2 = 14, 28\n",
    "rsiS = ta.RSI(price, timeperiod=n1)\n",
    "rsiL = ta.RSI(price, timeperiod=n2)\n",
    "\n",
    "# --- シグナル ---\n",
    "entries = rsiS > rsiL\n",
    "exits = rsiS < rsiL\n",
    "entries = entries.fillna(False)\n",
    "exits = exits.fillna(False)\n",
    "\n",
    "# --- バックテスト実行 ---\n",
    "pf = vbt.Portfolio.from_signals(price, entries, exits, init_cash=10000, fees=0.002)\n",
    "\n",
    "# --- チャート構築（2段構え） ---\n",
    "main_fig = pf.plot()  # vectorbt標準チャート\n",
    "fig = make_subplots(rows=2, cols=1, shared_xaxes=True,\n",
    "                    row_heights=[0.7, 0.3], vertical_spacing=0.05,\n",
    "                    subplot_titles=(\"Price + Trades\", \"RSI\"))\n",
    "\n",
    "# メインチャート追加（上段）\n",
    "for trace in main_fig.data:\n",
    "    fig.add_trace(trace, row=1, col=1)\n",
    "\n",
    "# RSI追加（下段）\n",
    "fig.add_trace(go.Scatter(x=price.index, y=rsiS, mode='lines', name=f'RSI {n1}', line=dict(color='blue')), row=2, col=1)\n",
    "fig.add_trace(go.Scatter(x=price.index, y=rsiL, mode='lines', name=f'RSI {n2}', line=dict(color='red')), row=2, col=1)\n",
    "\n",
    "# 軸設定\n",
    "fig.update_yaxes(title_text=\"RSI\", range=[0, 100], row=2, col=1)\n",
    "fig.update_layout(height=800, showlegend=True, title_text=\"RSI Cross Strategy (Jupyter表示対応)\")\n",
    "\n",
    "# ✅ ここでJupyterに直接表示（iframeレンダラー使用）\n",
    "fig.show()\n"
   ]
  }
 ],
 "metadata": {
  "kernelspec": {
   "display_name": "Python 3",
   "language": "python",
   "name": "python3"
  },
  "language_info": {
   "codemirror_mode": {
    "name": "ipython",
    "version": 3
   },
   "file_extension": ".py",
   "mimetype": "text/x-python",
   "name": "python",
   "nbconvert_exporter": "python",
   "pygments_lexer": "ipython3",
   "version": "3.13.1"
  }
 },
 "nbformat": 4,
 "nbformat_minor": 5
}
